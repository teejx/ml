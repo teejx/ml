{
 "cells": [
  {
   "cell_type": "markdown",
   "metadata": {},
   "source": [
    "Imports"
   ]
  },
  {
   "cell_type": "code",
   "execution_count": 1,
   "metadata": {},
   "outputs": [],
   "source": [
    "import numpy as np\n",
    "import cv2\n",
    "import os\n",
    "from tqdm import tqdm\n",
    "from skimage.feature import hog\n",
    "from sklearn.decomposition import PCA\n",
    "from skimage.feature import local_binary_pattern\n",
    "\n",
    "DATASET_PATH = \"C:/temporary shit/dataset/train_data\"\n",
    "IMG_SIZE = (64, 64)"
   ]
  },
  {
   "cell_type": "markdown",
   "metadata": {},
   "source": [
    "# RGBW"
   ]
  },
  {
   "cell_type": "markdown",
   "metadata": {},
   "source": [
    "Image Processing"
   ]
  },
  {
   "cell_type": "code",
   "execution_count": 2,
   "metadata": {},
   "outputs": [
    {
     "name": "stderr",
     "output_type": "stream",
     "text": [
      "Extracting RGBW: 100%|██████████| 79950/79950 [03:02<00:00, 437.45it/s]\n"
     ]
    }
   ],
   "source": [
    "CACHE_FILE = \"features_rgbw.npy\"\n",
    "\n",
    "def extract_rgbw_features(img):\n",
    "    r, g, b = cv2.split(img)\n",
    "    w = (r + g + b) // 3  # Approximate white channel\n",
    "    return np.array([r.mean(), g.mean(), b.mean(), w.mean()])\n",
    "\n",
    "def process_images():\n",
    "    images = []\n",
    "    filenames = os.listdir(DATASET_PATH)\n",
    "    \n",
    "    for file in tqdm(filenames, desc=\"Extracting RGBW\"):\n",
    "        img_path = os.path.join(DATASET_PATH, file)\n",
    "        img = cv2.imread(img_path)\n",
    "        if img is None:\n",
    "            continue\n",
    "        img = cv2.resize(img, IMG_SIZE)\n",
    "        features = extract_rgbw_features(img)\n",
    "        images.append(features)\n",
    "    \n",
    "    return np.array(images)\n",
    "\n",
    "rgbw_features = process_images()"
   ]
  },
  {
   "cell_type": "markdown",
   "metadata": {},
   "source": [
    "Saving Cache"
   ]
  },
  {
   "cell_type": "code",
   "execution_count": 3,
   "metadata": {},
   "outputs": [
    {
     "name": "stdout",
     "output_type": "stream",
     "text": [
      "Saved RGBW features to features_rgbw.npy\n"
     ]
    }
   ],
   "source": [
    "np.save(CACHE_FILE, rgbw_features)\n",
    "print(f\"Saved RGBW features to {CACHE_FILE}\")"
   ]
  },
  {
   "cell_type": "markdown",
   "metadata": {},
   "source": [
    "# HOG"
   ]
  },
  {
   "cell_type": "markdown",
   "metadata": {},
   "source": [
    "Image Processing"
   ]
  },
  {
   "cell_type": "code",
   "execution_count": 4,
   "metadata": {},
   "outputs": [
    {
     "name": "stderr",
     "output_type": "stream",
     "text": [
      "Extracting RGBW: 100%|██████████| 79950/79950 [02:08<00:00, 624.30it/s]\n"
     ]
    }
   ],
   "source": [
    "CACHE_FILE = \"features_hog.npy\"\n",
    "\n",
    "def extract_hog_features(img):\n",
    "    features, _ = hog(img, pixels_per_cell=(8, 8), cells_per_block=(2, 2), visualize=True)\n",
    "    hist, _ = np.histogram(features, bins=32, range=(0, np.max(features)), density=True)\n",
    "    return hist\n",
    "\n",
    "hog_features = process_images()"
   ]
  },
  {
   "cell_type": "markdown",
   "metadata": {},
   "source": [
    "Saving Cache"
   ]
  },
  {
   "cell_type": "code",
   "execution_count": 5,
   "metadata": {},
   "outputs": [
    {
     "name": "stdout",
     "output_type": "stream",
     "text": [
      "Saved HOG features to features_hog.npy\n"
     ]
    }
   ],
   "source": [
    "np.save(CACHE_FILE, hog_features)\n",
    "print(f\"Saved HOG features to {CACHE_FILE}\")"
   ]
  },
  {
   "cell_type": "markdown",
   "metadata": {},
   "source": [
    "# LBP"
   ]
  },
  {
   "cell_type": "markdown",
   "metadata": {},
   "source": [
    "Image Processing"
   ]
  },
  {
   "cell_type": "code",
   "execution_count": 6,
   "metadata": {},
   "outputs": [
    {
     "name": "stderr",
     "output_type": "stream",
     "text": [
      "Extracting RGBW: 100%|██████████| 79950/79950 [02:05<00:00, 639.07it/s]\n"
     ]
    }
   ],
   "source": [
    "CACHE_FILE = \"features_lbp.npy\"\n",
    "\n",
    "def extract_lbp_features(img):\n",
    "    lbp = local_binary_pattern(img, P=8, R=1, method=\"uniform\")\n",
    "    hist, _ = np.histogram(lbp.ravel(), bins=59, range=(0, 59), density=True)\n",
    "    return hist\n",
    "\n",
    "lbp_features = process_images()"
   ]
  },
  {
   "cell_type": "markdown",
   "metadata": {},
   "source": [
    "Saving Cache"
   ]
  },
  {
   "cell_type": "code",
   "execution_count": 7,
   "metadata": {},
   "outputs": [
    {
     "name": "stdout",
     "output_type": "stream",
     "text": [
      "Saved LBP features to features_lbp.npy\n"
     ]
    }
   ],
   "source": [
    "np.save(CACHE_FILE, lbp_features)\n",
    "print(f\"Saved LBP features to {CACHE_FILE}\")"
   ]
  },
  {
   "cell_type": "markdown",
   "metadata": {},
   "source": [
    "# Fourier Transform"
   ]
  },
  {
   "cell_type": "markdown",
   "metadata": {},
   "source": [
    "Image Processing"
   ]
  },
  {
   "cell_type": "code",
   "execution_count": 8,
   "metadata": {},
   "outputs": [
    {
     "name": "stderr",
     "output_type": "stream",
     "text": [
      "Extracting RGBW: 100%|██████████| 79950/79950 [02:04<00:00, 640.92it/s]\n"
     ]
    }
   ],
   "source": [
    "CACHE_FILE = \"features_fda.npy\"\n",
    "\n",
    "def extract_fourier_features(img):\n",
    "    fft_img = np.fft.fft2(img)\n",
    "    fft_shift = np.fft.fftshift(fft_img)\n",
    "    magnitude_spectrum = np.abs(fft_shift)\n",
    "    low_freq = magnitude_spectrum[:H//4, :W//4].mean()\n",
    "    mid_freq = magnitude_spectrum[H//4:H//2, W//4:W//2].mean()\n",
    "    high_freq = magnitude_spectrum[H//2:, W//2:].mean()\n",
    "    return np.array([low_freq, mid_freq, high_freq])\n",
    "\n",
    "fourier_features = process_images()"
   ]
  },
  {
   "cell_type": "markdown",
   "metadata": {},
   "source": [
    "Saving Cache"
   ]
  },
  {
   "cell_type": "code",
   "execution_count": 9,
   "metadata": {},
   "outputs": [
    {
     "name": "stdout",
     "output_type": "stream",
     "text": [
      "Saved Fourier Transform features to features_fda.npy\n"
     ]
    }
   ],
   "source": [
    "np.save(CACHE_FILE, fourier_features)\n",
    "print(f\"Saved Fourier Transform features to {CACHE_FILE}\")"
   ]
  },
  {
   "cell_type": "markdown",
   "metadata": {},
   "source": [
    "# Error Level Analysis"
   ]
  },
  {
   "cell_type": "markdown",
   "metadata": {},
   "source": [
    "Image Processing"
   ]
  },
  {
   "cell_type": "code",
   "execution_count": 10,
   "metadata": {},
   "outputs": [
    {
     "name": "stderr",
     "output_type": "stream",
     "text": [
      "Extracting RGBW: 100%|██████████| 79950/79950 [02:02<00:00, 653.72it/s]\n"
     ]
    }
   ],
   "source": [
    "CACHE_FILE = \"features_ela.npy\"\n",
    "\n",
    "def extract_ela_features(img):\n",
    "    cv2.imwrite(\"temp.jpg\", img, [cv2.IMWRITE_JPEG_QUALITY, 90])\n",
    "    compressed = cv2.imread(\"temp.jpg\")\n",
    "    ela = cv2.absdiff(img, compressed)\n",
    "    return np.array([ela.mean()])\n",
    "\n",
    "ela_features = process_images()"
   ]
  },
  {
   "cell_type": "markdown",
   "metadata": {},
   "source": [
    "Saving Cache"
   ]
  },
  {
   "cell_type": "code",
   "execution_count": 11,
   "metadata": {},
   "outputs": [
    {
     "name": "stdout",
     "output_type": "stream",
     "text": [
      "Saved ELA features to features_ela.npy\n"
     ]
    }
   ],
   "source": [
    "np.save(CACHE_FILE, ela_features)\n",
    "print(f\"Saved ELA features to {CACHE_FILE}\")"
   ]
  },
  {
   "cell_type": "markdown",
   "metadata": {},
   "source": [
    "# Local Binary Pattern Variance"
   ]
  },
  {
   "cell_type": "markdown",
   "metadata": {},
   "source": [
    "Image Processing"
   ]
  },
  {
   "cell_type": "code",
   "execution_count": 12,
   "metadata": {},
   "outputs": [
    {
     "name": "stderr",
     "output_type": "stream",
     "text": [
      "Extracting RGBW: 100%|██████████| 79950/79950 [02:01<00:00, 658.82it/s]\n"
     ]
    }
   ],
   "source": [
    "CACHE_FILE = \"features_lbpv.npy\"\n",
    "\n",
    "def extract_lbpv_features(img):\n",
    "    lbpv = local_binary_pattern(img, P=8, R=1, method=\"var\")\n",
    "    hist, _ = np.histogram(lbpv.ravel(), bins=59, range=(0, np.max(lbpv)), density=True)\n",
    "    return hist\n",
    "\n",
    "lbpv_features = process_images()\n"
   ]
  },
  {
   "cell_type": "markdown",
   "metadata": {},
   "source": [
    "Saving Cache"
   ]
  },
  {
   "cell_type": "code",
   "execution_count": 13,
   "metadata": {},
   "outputs": [
    {
     "name": "stdout",
     "output_type": "stream",
     "text": [
      "Saved LBPV features to features_lbpv.npy\n"
     ]
    }
   ],
   "source": [
    "np.save(CACHE_FILE, lbpv_features)\n",
    "print(f\"Saved LBPV features to {CACHE_FILE}\")"
   ]
  },
  {
   "cell_type": "markdown",
   "metadata": {},
   "source": [
    "# Color Gamut"
   ]
  },
  {
   "cell_type": "markdown",
   "metadata": {},
   "source": [
    "Image Processing"
   ]
  },
  {
   "cell_type": "code",
   "execution_count": 14,
   "metadata": {},
   "outputs": [
    {
     "name": "stderr",
     "output_type": "stream",
     "text": [
      "Extracting RGBW: 100%|██████████| 79950/79950 [02:02<00:00, 651.86it/s]\n"
     ]
    }
   ],
   "source": [
    "CACHE_FILE = \"features_colorgamut.npy\"\n",
    "\n",
    "def extract_color_gamut(img):\n",
    "    hist = cv2.calcHist([img], [0, 1, 2], None, [8, 8, 8], [0, 256, 0, 256, 0, 256])\n",
    "    return hist.flatten()\n",
    "\n",
    "color_gamut_features = process_images()"
   ]
  },
  {
   "cell_type": "markdown",
   "metadata": {},
   "source": [
    "Saving Cache"
   ]
  },
  {
   "cell_type": "code",
   "execution_count": 15,
   "metadata": {},
   "outputs": [
    {
     "name": "stdout",
     "output_type": "stream",
     "text": [
      "Saved Color Gamut features to features_colorgamut.npy\n"
     ]
    }
   ],
   "source": [
    "np.save(CACHE_FILE, color_gamut_features)\n",
    "print(f\"Saved Color Gamut features to {CACHE_FILE}\")"
   ]
  },
  {
   "cell_type": "markdown",
   "metadata": {},
   "source": [
    "# Fractal Dimension"
   ]
  },
  {
   "cell_type": "markdown",
   "metadata": {},
   "source": [
    "Image Processing"
   ]
  },
  {
   "cell_type": "code",
   "execution_count": 16,
   "metadata": {},
   "outputs": [
    {
     "name": "stderr",
     "output_type": "stream",
     "text": [
      "Extracting RGBW: 100%|██████████| 79950/79950 [02:01<00:00, 655.47it/s]\n"
     ]
    }
   ],
   "source": [
    "CACHE_FILE = \"features_fractal.npy\"\n",
    "\n",
    "def fractal_dimension(img, threshold=128):\n",
    "    img = img < threshold\n",
    "    sizes = 2 ** np.arange(1, 6)\n",
    "    counts = []\n",
    "    \n",
    "    for size in sizes:\n",
    "        S = img.shape[0] // size\n",
    "        count = sum(np.any(img[i*size:(i+1)*size, j*size:(j+1)*size]) for i in range(S) for j in range(S))\n",
    "        counts.append(count)\n",
    "\n",
    "    coeffs = np.polyfit(np.log(sizes), np.log(counts), 1)\n",
    "    return np.array([-coeffs[0]])\n",
    "\n",
    "fractal_features = process_images()\n"
   ]
  },
  {
   "cell_type": "markdown",
   "metadata": {},
   "source": [
    "Saving Cache"
   ]
  },
  {
   "cell_type": "code",
   "execution_count": 17,
   "metadata": {},
   "outputs": [
    {
     "name": "stdout",
     "output_type": "stream",
     "text": [
      "Saved Fractal Dimension features to features_fractal.npy\n"
     ]
    }
   ],
   "source": [
    "np.save(CACHE_FILE, fractal_features)\n",
    "print(f\"Saved Fractal Dimension features to {CACHE_FILE}\")"
   ]
  }
 ],
 "metadata": {
  "kernelspec": {
   "display_name": ".venv",
   "language": "python",
   "name": "python3"
  },
  "language_info": {
   "codemirror_mode": {
    "name": "ipython",
    "version": 3
   },
   "file_extension": ".py",
   "mimetype": "text/x-python",
   "name": "python",
   "nbconvert_exporter": "python",
   "pygments_lexer": "ipython3",
   "version": "3.10.11"
  }
 },
 "nbformat": 4,
 "nbformat_minor": 2
}
